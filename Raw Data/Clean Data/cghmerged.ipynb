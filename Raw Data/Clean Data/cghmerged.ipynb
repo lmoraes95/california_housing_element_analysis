{
 "cells": [
  {
   "cell_type": "code",
   "execution_count": 1,
   "metadata": {},
   "outputs": [],
   "source": [
    "import pandas as pd\n",
    "import os"
   ]
  },
  {
   "cell_type": "code",
   "execution_count": 2,
   "metadata": {},
   "outputs": [],
   "source": [
    "df1 = pd.read_csv('c_clean.csv')\n",
    "df2 = pd.read_csv('G_clean.csv')\n",
    "df3 = pd.read_csv('H_clean.csv')"
   ]
  },
  {
   "cell_type": "code",
   "execution_count": 6,
   "metadata": {},
   "outputs": [],
   "source": [
    "df123 = pd.merge(df1, df3, on=\"APN\")"
   ]
  },
  {
   "cell_type": "code",
   "execution_count": 7,
   "metadata": {},
   "outputs": [
    {
     "data": {
      "text/html": [
       "<div>\n",
       "<style scoped>\n",
       "    .dataframe tbody tr th:only-of-type {\n",
       "        vertical-align: middle;\n",
       "    }\n",
       "\n",
       "    .dataframe tbody tr th {\n",
       "        vertical-align: top;\n",
       "    }\n",
       "\n",
       "    .dataframe thead th {\n",
       "        text-align: right;\n",
       "    }\n",
       "</style>\n",
       "<table border=\"1\" class=\"dataframe\">\n",
       "  <thead>\n",
       "    <tr style=\"text-align: right;\">\n",
       "      <th></th>\n",
       "      <th>JURISDICTION_x</th>\n",
       "      <th>COUNTY_x</th>\n",
       "      <th>YEAR_x</th>\n",
       "      <th>APN</th>\n",
       "      <th>STREET_ADDRESS_x</th>\n",
       "      <th>PROJECT_NAME</th>\n",
       "      <th>REZONE_DT</th>\n",
       "      <th>LOW_INCOME</th>\n",
       "      <th>SHORTFALL_DESC</th>\n",
       "      <th>PARCEL_SIZE_x</th>\n",
       "      <th>...</th>\n",
       "      <th>PARCEL_VACANT_NONVACANT</th>\n",
       "      <th>PARCEL_DESC</th>\n",
       "      <th>JURISDICTION_y</th>\n",
       "      <th>COUNTY_y</th>\n",
       "      <th>YEAR_y</th>\n",
       "      <th>STREET_ADDRESS_y</th>\n",
       "      <th>EXISTING_USE_TYPE</th>\n",
       "      <th>NUM_OF_UNITS</th>\n",
       "      <th>SURPLUS_TYPE</th>\n",
       "      <th>PARCEL_SIZE_y</th>\n",
       "    </tr>\n",
       "  </thead>\n",
       "  <tbody>\n",
       "  </tbody>\n",
       "</table>\n",
       "<p>0 rows × 25 columns</p>\n",
       "</div>"
      ],
      "text/plain": [
       "Empty DataFrame\n",
       "Columns: [JURISDICTION_x, COUNTY_x, YEAR_x, APN, STREET_ADDRESS_x, PROJECT_NAME, REZONE_DT, LOW_INCOME, SHORTFALL_DESC, PARCEL_SIZE_x, GEN_PLAN_DESIGNATION, ZONING, MIN_DENSITY_ALLOWED, MAX_DENSITY_ALLOWED, REALISTIC_CAPACITY, PARCEL_VACANT_NONVACANT, PARCEL_DESC, JURISDICTION_y, COUNTY_y, YEAR_y, STREET_ADDRESS_y, EXISTING_USE_TYPE, NUM_OF_UNITS, SURPLUS_TYPE, PARCEL_SIZE_y]\n",
       "Index: []\n",
       "\n",
       "[0 rows x 25 columns]"
      ]
     },
     "execution_count": 7,
     "metadata": {},
     "output_type": "execute_result"
    }
   ],
   "source": [
    "df123"
   ]
  },
  {
   "cell_type": "code",
   "execution_count": 9,
   "metadata": {},
   "outputs": [],
   "source": [
    "df12.to_csv('A&A2MERGED.CSV', index=False)"
   ]
  }
 ],
 "metadata": {
  "kernelspec": {
   "display_name": "Python 3",
   "language": "python",
   "name": "python3"
  },
  "language_info": {
   "codemirror_mode": {
    "name": "ipython",
    "version": 3
   },
   "file_extension": ".py",
   "mimetype": "text/x-python",
   "name": "python",
   "nbconvert_exporter": "python",
   "pygments_lexer": "ipython3",
   "version": "3.10.5 (tags/v3.10.5:f377153, Jun  6 2022, 16:14:13) [MSC v.1929 64 bit (AMD64)]"
  },
  "orig_nbformat": 4,
  "vscode": {
   "interpreter": {
    "hash": "3c9b7bb44bf01d7404012a72eb736e90f7956ee6fe95c107e74b5b2c822d6ed7"
   }
  }
 },
 "nbformat": 4,
 "nbformat_minor": 2
}
