{
 "cells": [
  {
   "cell_type": "code",
   "execution_count": 3,
   "metadata": {},
   "outputs": [],
   "source": [
    "import pandas as pd"
   ]
  },
  {
   "cell_type": "code",
   "execution_count": 5,
   "metadata": {},
   "outputs": [
    {
     "name": "stdout",
     "output_type": "stream",
     "text": [
      "Google, 2022-01-02\n"
     ]
    }
   ],
   "source": [
    "import pandas as pd\n",
    "\n",
    "# Define the data as a list of tuples\n",
    "data = [\n",
    "  ('2022-01-01','Google',100.0),\n",
    "  ('2022-01-02','Google',100.1),\n",
    "  ('2022-01-03','Google',99.5)\n",
    "]\n",
    "\n",
    "# Create a pandas DataFrame from the data\n",
    "df = pd.DataFrame(data, columns=['Date', 'Company', 'Price'])\n",
    "\n",
    "# Group the data by company and find the maximum price for each company\n",
    "max_prices = df.groupby('Company')['Price'].max()\n",
    "\n",
    "# Loop through the groups and print the company name and date of maximum price\n",
    "for company, price in max_prices.items():\n",
    "  max_date = df[(df['Company'] == company) & (df['Price'] == price)]['Date'].values[0]\n",
    "  print(f\"{company}, {max_date}\")"
   ]
  },
  {
   "cell_type": "code",
   "execution_count": null,
   "metadata": {},
   "outputs": [],
   "source": [
    "a raw stock prices from three different sources are given. Prices might be missing for some days for some or all of the sources (represented by a null value). Non-trading dates do not appear in the raw data (for example, 2013-01-05 and 2013-01-06 which are weekend are not shown).\n",
    "\n",
    "the source_id column represents the source indentification code:\n",
    "0- primary source(most preferred)\n",
    "1- secondary source\n",
    "2- tertiary source(least preferred)\n",
    "\n",
    "columns: date, ticker, price, source_id\n",
    "\n",
    "2013-01-03,AAPL,509.16,0\n",
    "2013-01-03,AAPL,509.17,1\n",
    "2013-01-03,AAPL,509.18,2\n",
    "2013-01-04,AAPL,517.46,0\n",
    "2013-01-04,AAPL,517.45,1\n",
    "2013-01-04,AAPL,517.47,2\n",
    "\n",
    "generate a time series of stock prices based ont he following rules:\n",
    "1- if there are different values from the 3 sources, pick the value that occurs most frequently.\n",
    "2- if all the values from the 3 sources are different, pick the most preferred available source(smallest source_id).\n",
    "3- the output should be ordered by ticker then date in ascending order."
   ]
  },
  {
   "cell_type": "code",
   "execution_count": null,
   "metadata": {},
   "outputs": [],
   "source": [
    "    \n",
    "    most_frequent_prices = df.groupby(['date', 'ticker'])['price'].apply(lambda x:x.value_counts().index[0])\n",
    "    \n",
    "    result = pd.DataFrame(most_frequent_prices).reset_index()\n",
    "    \n",
    "    result.set_index('date')\n",
    "    \n",
    "    print(result)"
   ]
  }
 ],
 "metadata": {
  "kernelspec": {
   "display_name": "Python 3",
   "language": "python",
   "name": "python3"
  },
  "language_info": {
   "codemirror_mode": {
    "name": "ipython",
    "version": 3
   },
   "file_extension": ".py",
   "mimetype": "text/x-python",
   "name": "python",
   "nbconvert_exporter": "python",
   "pygments_lexer": "ipython3",
   "version": "3.10.5 (tags/v3.10.5:f377153, Jun  6 2022, 16:14:13) [MSC v.1929 64 bit (AMD64)]"
  },
  "orig_nbformat": 4,
  "vscode": {
   "interpreter": {
    "hash": "3c9b7bb44bf01d7404012a72eb736e90f7956ee6fe95c107e74b5b2c822d6ed7"
   }
  }
 },
 "nbformat": 4,
 "nbformat_minor": 2
}
